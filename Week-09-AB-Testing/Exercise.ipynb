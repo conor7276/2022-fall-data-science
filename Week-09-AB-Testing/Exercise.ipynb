{
 "cells": [
  {
   "cell_type": "markdown",
   "id": "marine-stock",
   "metadata": {},
   "source": [
    "# Exercise with A/B Testing\n",
    "\n",
    "### Prompt\n",
    "\n",
    "Let’s imagine you work on the For You Page at TikTok. Your team decides that instead of a heart button, they want to change it to star hoping that it will lead to a higher engagement/like rate. The product manager told you that the current conversion rate is about 6% on average throughout the year, and that the team would be happy with an increase of 3%, meaning that the new design will be considered a success if it raises the engagement rate to 9%.\n",
    "\n",
    "Before rolling out the change, the team would be more comfortable testing it on a small number of users to see how it performs, so you suggest running an A/B test on a subset of the user base users."
   ]
  },
  {
   "cell_type": "code",
   "execution_count": 35,
   "id": "streaming-honor",
   "metadata": {},
   "outputs": [],
   "source": [
    "# Packages imports\n",
    "import numpy as np\n",
    "import pandas as pd\n",
    "\n",
    "# probability distributions & statistical functions\n",
    "import scipy.stats as stats\n",
    "# estimating statistical models\n",
    "import statsmodels.stats.api as sms\n",
    "\n",
    "import matplotlib.pyplot as plt\n",
    "import seaborn as sns\n",
    "\n",
    "#rounding function\n",
    "from math import ceil\n",
    "\n",
    "sns.set()"
   ]
  },
  {
   "cell_type": "markdown",
   "id": "seeing-worse",
   "metadata": {},
   "source": [
    "### Sample Size Calculation"
   ]
  },
  {
   "cell_type": "code",
   "execution_count": 36,
   "id": "popular-permit",
   "metadata": {},
   "outputs": [
    {
     "name": "stdout",
     "output_type": "stream",
     "text": [
      "-0.11445118168989954\n"
     ]
    }
   ],
   "source": [
    "# Calculate effect size based on our expected rates\n",
    "\n",
    "effect_size = sms.proportion_effectsize(0.06,0.09)\n",
    "\n",
    "print(effect_size)"
   ]
  },
  {
   "cell_type": "code",
   "execution_count": 37,
   "id": "moving-regression",
   "metadata": {},
   "outputs": [
    {
     "name": "stdout",
     "output_type": "stream",
     "text": [
      "1199\n"
     ]
    }
   ],
   "source": [
    "# Calculate sample size needed\n",
    "required_n = sms.NormalIndPower().solve_power(\n",
    "    effect_size,\n",
    "    power = 0.8,\n",
    "    alpha = 0.05,\n",
    "    ratio = 1)\n",
    "\n",
    "required_n = ceil(required_n)\n",
    "print(required_n)"
   ]
  },
  {
   "cell_type": "markdown",
   "id": "crucial-editing",
   "metadata": {},
   "source": [
    "### Collecting and preparing the data"
   ]
  },
  {
   "cell_type": "code",
   "execution_count": 56,
   "id": "literary-separate",
   "metadata": {},
   "outputs": [],
   "source": [
    "# Load the tiktok_data.csv into a dataframe\n",
    "df = pd.read_csv('data/tiktok_data.csv')\n"
   ]
  },
  {
   "cell_type": "code",
   "execution_count": 57,
   "id": "described-matrix",
   "metadata": {},
   "outputs": [
    {
     "name": "stdout",
     "output_type": "stream",
     "text": [
      "<class 'pandas.core.frame.DataFrame'>\n",
      "RangeIndex: 275781 entries, 0 to 275780\n",
      "Data columns (total 5 columns):\n",
      " #   Column     Non-Null Count   Dtype \n",
      "---  ------     --------------   ----- \n",
      " 0   user_id    275781 non-null  int64 \n",
      " 1   timestamp  275781 non-null  object\n",
      " 2   group      275781 non-null  object\n",
      " 3   button     275781 non-null  object\n",
      " 4   liked      275781 non-null  int64 \n",
      "dtypes: int64(2), object(3)\n",
      "memory usage: 10.5+ MB\n"
     ]
    }
   ],
   "source": [
    "# Get the info of the dataframe\n",
    "\n",
    "df.info()"
   ]
  },
  {
   "cell_type": "code",
   "execution_count": 58,
   "id": "fancy-lucas",
   "metadata": {},
   "outputs": [
    {
     "name": "stdout",
     "output_type": "stream",
     "text": [
      "3453\n"
     ]
    }
   ],
   "source": [
    "# Check that no users have been sampled multiple times \n",
    "session_counts = df['user_id'].value_counts()\n",
    "multi_users = session_counts[session_counts > 1].count()\n",
    "print(multi_users)"
   ]
  },
  {
   "cell_type": "code",
   "execution_count": 59,
   "id": "appreciated-thomas",
   "metadata": {},
   "outputs": [
    {
     "name": "stdout",
     "output_type": "stream",
     "text": [
      "(275781, 5)\n",
      "(268875, 5)\n"
     ]
    }
   ],
   "source": [
    "# If there are users who have been sampled multiple times, remove them from the dataframe\n",
    "print(df.shape)\n",
    "users_to_drop = session_counts[session_counts > 1].index\n",
    "\n",
    "df = df[~df['user_id'].isin(users_to_drop)]\n",
    "print(df.shape)"
   ]
  },
  {
   "cell_type": "code",
   "execution_count": 60,
   "id": "metallic-providence",
   "metadata": {},
   "outputs": [
    {
     "data": {
      "text/html": [
       "<div>\n",
       "<style scoped>\n",
       "    .dataframe tbody tr th:only-of-type {\n",
       "        vertical-align: middle;\n",
       "    }\n",
       "\n",
       "    .dataframe tbody tr th {\n",
       "        vertical-align: top;\n",
       "    }\n",
       "\n",
       "    .dataframe thead th {\n",
       "        text-align: right;\n",
       "    }\n",
       "</style>\n",
       "<table border=\"1\" class=\"dataframe\">\n",
       "  <thead>\n",
       "    <tr style=\"text-align: right;\">\n",
       "      <th>button</th>\n",
       "      <th>heart</th>\n",
       "      <th>star</th>\n",
       "    </tr>\n",
       "    <tr>\n",
       "      <th>group</th>\n",
       "      <th></th>\n",
       "      <th></th>\n",
       "    </tr>\n",
       "  </thead>\n",
       "  <tbody>\n",
       "    <tr>\n",
       "      <th>control</th>\n",
       "      <td>134233</td>\n",
       "      <td>110</td>\n",
       "    </tr>\n",
       "    <tr>\n",
       "      <th>treatment</th>\n",
       "      <td>109</td>\n",
       "      <td>134423</td>\n",
       "    </tr>\n",
       "  </tbody>\n",
       "</table>\n",
       "</div>"
      ],
      "text/plain": [
       "button      heart    star\n",
       "group                    \n",
       "control    134233     110\n",
       "treatment     109  134423"
      ]
     },
     "execution_count": 60,
     "metadata": {},
     "output_type": "execute_result"
    }
   ],
   "source": [
    "# Make sure all the control group are seeing the star button and viceversa\n",
    "\n",
    "pd.crosstab(df['group'], df['button'])"
   ]
  },
  {
   "cell_type": "code",
   "execution_count": 61,
   "id": "39977edd",
   "metadata": {},
   "outputs": [
    {
     "name": "stderr",
     "output_type": "stream",
     "text": [
      "C:\\Users\\conor\\AppData\\Local\\Temp\\ipykernel_4520\\1964610018.py:3: UserWarning: Boolean Series key will be reindexed to match DataFrame index.\n",
      "  df_control = df_control[df.button != 'star'].copy()\n",
      "C:\\Users\\conor\\AppData\\Local\\Temp\\ipykernel_4520\\1964610018.py:6: UserWarning: Boolean Series key will be reindexed to match DataFrame index.\n",
      "  df_treat = df_treat[df.button != 'heart'].copy()\n"
     ]
    },
    {
     "data": {
      "text/plain": [
       "(268656, 5)"
      ]
     },
     "execution_count": 61,
     "metadata": {},
     "output_type": "execute_result"
    }
   ],
   "source": [
    "df_control = df[(df['group'] == 'control')].copy()\n",
    "\n",
    "df_control = df_control[df.button != 'star'].copy()\n",
    "\n",
    "df_treat = df[(df['group'] == 'treatment')].copy()\n",
    "df_treat = df_treat[df.button != 'heart'].copy()\n",
    "\n",
    "df_clean = pd.concat([df_control, df_treat], ignore_index = True)\n",
    "\n",
    "df = df_clean.copy()\n",
    "df.shape"
   ]
  },
  {
   "cell_type": "code",
   "execution_count": 62,
   "id": "b69a01b6",
   "metadata": {},
   "outputs": [
    {
     "data": {
      "text/html": [
       "<div>\n",
       "<style scoped>\n",
       "    .dataframe tbody tr th:only-of-type {\n",
       "        vertical-align: middle;\n",
       "    }\n",
       "\n",
       "    .dataframe tbody tr th {\n",
       "        vertical-align: top;\n",
       "    }\n",
       "\n",
       "    .dataframe thead th {\n",
       "        text-align: right;\n",
       "    }\n",
       "</style>\n",
       "<table border=\"1\" class=\"dataframe\">\n",
       "  <thead>\n",
       "    <tr style=\"text-align: right;\">\n",
       "      <th></th>\n",
       "      <th>user_id</th>\n",
       "      <th>timestamp</th>\n",
       "      <th>group</th>\n",
       "      <th>button</th>\n",
       "      <th>liked</th>\n",
       "    </tr>\n",
       "  </thead>\n",
       "  <tbody>\n",
       "    <tr>\n",
       "      <th>0</th>\n",
       "      <td>746742</td>\n",
       "      <td>2017-01-23 11:38:30</td>\n",
       "      <td>control</td>\n",
       "      <td>heart</td>\n",
       "      <td>0</td>\n",
       "    </tr>\n",
       "    <tr>\n",
       "      <th>1</th>\n",
       "      <td>913579</td>\n",
       "      <td>2017-01-24 9:11:39</td>\n",
       "      <td>control</td>\n",
       "      <td>heart</td>\n",
       "      <td>1</td>\n",
       "    </tr>\n",
       "    <tr>\n",
       "      <th>2</th>\n",
       "      <td>690284</td>\n",
       "      <td>2017-01-13 17:22:57</td>\n",
       "      <td>control</td>\n",
       "      <td>heart</td>\n",
       "      <td>0</td>\n",
       "    </tr>\n",
       "    <tr>\n",
       "      <th>3</th>\n",
       "      <td>710349</td>\n",
       "      <td>2017-01-11 22:24:44</td>\n",
       "      <td>control</td>\n",
       "      <td>heart</td>\n",
       "      <td>0</td>\n",
       "    </tr>\n",
       "    <tr>\n",
       "      <th>4</th>\n",
       "      <td>677533</td>\n",
       "      <td>2017-01-23 17:48:50</td>\n",
       "      <td>control</td>\n",
       "      <td>heart</td>\n",
       "      <td>0</td>\n",
       "    </tr>\n",
       "  </tbody>\n",
       "</table>\n",
       "</div>"
      ],
      "text/plain": [
       "   user_id            timestamp    group button  liked\n",
       "0   746742  2017-01-23 11:38:30  control  heart      0\n",
       "1   913579   2017-01-24 9:11:39  control  heart      1\n",
       "2   690284  2017-01-13 17:22:57  control  heart      0\n",
       "3   710349  2017-01-11 22:24:44  control  heart      0\n",
       "4   677533  2017-01-23 17:48:50  control  heart      0"
      ]
     },
     "execution_count": 62,
     "metadata": {},
     "output_type": "execute_result"
    }
   ],
   "source": [
    "df.head()"
   ]
  },
  {
   "cell_type": "code",
   "execution_count": 63,
   "id": "2cfd405e",
   "metadata": {},
   "outputs": [
    {
     "data": {
      "text/html": [
       "<div>\n",
       "<style scoped>\n",
       "    .dataframe tbody tr th:only-of-type {\n",
       "        vertical-align: middle;\n",
       "    }\n",
       "\n",
       "    .dataframe tbody tr th {\n",
       "        vertical-align: top;\n",
       "    }\n",
       "\n",
       "    .dataframe thead th {\n",
       "        text-align: right;\n",
       "    }\n",
       "</style>\n",
       "<table border=\"1\" class=\"dataframe\">\n",
       "  <thead>\n",
       "    <tr style=\"text-align: right;\">\n",
       "      <th>button</th>\n",
       "      <th>heart</th>\n",
       "      <th>star</th>\n",
       "    </tr>\n",
       "    <tr>\n",
       "      <th>group</th>\n",
       "      <th></th>\n",
       "      <th></th>\n",
       "    </tr>\n",
       "  </thead>\n",
       "  <tbody>\n",
       "    <tr>\n",
       "      <th>control</th>\n",
       "      <td>134233</td>\n",
       "      <td>0</td>\n",
       "    </tr>\n",
       "    <tr>\n",
       "      <th>treatment</th>\n",
       "      <td>0</td>\n",
       "      <td>134423</td>\n",
       "    </tr>\n",
       "  </tbody>\n",
       "</table>\n",
       "</div>"
      ],
      "text/plain": [
       "button      heart    star\n",
       "group                    \n",
       "control    134233       0\n",
       "treatment       0  134423"
      ]
     },
     "execution_count": 63,
     "metadata": {},
     "output_type": "execute_result"
    }
   ],
   "source": [
    "pd.crosstab(df['group'], df['button'])"
   ]
  },
  {
   "cell_type": "markdown",
   "id": "skilled-apple",
   "metadata": {},
   "source": [
    "#### Now that our DataFrame is nice and clean, we can proceed and sample n=4720 entries for each of the groups. We can use pandas' DataFrame.sample() method to do this, which will perform Simple Random Sampling for us."
   ]
  },
  {
   "cell_type": "code",
   "execution_count": 74,
   "id": "absolute-runner",
   "metadata": {},
   "outputs": [
    {
     "data": {
      "text/html": [
       "<div>\n",
       "<style scoped>\n",
       "    .dataframe tbody tr th:only-of-type {\n",
       "        vertical-align: middle;\n",
       "    }\n",
       "\n",
       "    .dataframe tbody tr th {\n",
       "        vertical-align: top;\n",
       "    }\n",
       "\n",
       "    .dataframe thead th {\n",
       "        text-align: right;\n",
       "    }\n",
       "</style>\n",
       "<table border=\"1\" class=\"dataframe\">\n",
       "  <thead>\n",
       "    <tr style=\"text-align: right;\">\n",
       "      <th></th>\n",
       "      <th>user_id</th>\n",
       "      <th>timestamp</th>\n",
       "      <th>group</th>\n",
       "      <th>button</th>\n",
       "      <th>liked</th>\n",
       "    </tr>\n",
       "  </thead>\n",
       "  <tbody>\n",
       "    <tr>\n",
       "      <th>22391</th>\n",
       "      <td>923141</td>\n",
       "      <td>2017-01-22 5:57:47</td>\n",
       "      <td>control</td>\n",
       "      <td>heart</td>\n",
       "      <td>0</td>\n",
       "    </tr>\n",
       "    <tr>\n",
       "      <th>86483</th>\n",
       "      <td>672677</td>\n",
       "      <td>2017-01-06 23:30:47</td>\n",
       "      <td>control</td>\n",
       "      <td>heart</td>\n",
       "      <td>0</td>\n",
       "    </tr>\n",
       "    <tr>\n",
       "      <th>45074</th>\n",
       "      <td>830874</td>\n",
       "      <td>2017-01-18 23:10:33</td>\n",
       "      <td>control</td>\n",
       "      <td>heart</td>\n",
       "      <td>0</td>\n",
       "    </tr>\n",
       "    <tr>\n",
       "      <th>14799</th>\n",
       "      <td>824896</td>\n",
       "      <td>2017-01-19 17:45:24</td>\n",
       "      <td>control</td>\n",
       "      <td>heart</td>\n",
       "      <td>0</td>\n",
       "    </tr>\n",
       "    <tr>\n",
       "      <th>132122</th>\n",
       "      <td>689786</td>\n",
       "      <td>2017-01-15 12:54:08</td>\n",
       "      <td>control</td>\n",
       "      <td>heart</td>\n",
       "      <td>0</td>\n",
       "    </tr>\n",
       "  </tbody>\n",
       "</table>\n",
       "</div>"
      ],
      "text/plain": [
       "        user_id            timestamp    group button  liked\n",
       "22391    923141   2017-01-22 5:57:47  control  heart      0\n",
       "86483    672677  2017-01-06 23:30:47  control  heart      0\n",
       "45074    830874  2017-01-18 23:10:33  control  heart      0\n",
       "14799    824896  2017-01-19 17:45:24  control  heart      0\n",
       "132122   689786  2017-01-15 12:54:08  control  heart      0"
      ]
     },
     "execution_count": 74,
     "metadata": {},
     "output_type": "execute_result"
    }
   ],
   "source": [
    "# Perform simple random sampling to split the data into control and treatment\n",
    "\n",
    "control_sample = df[df['group'] == 'control'].sample(n = 4720, random_state = 444)\n",
    "treatment_sample = df[df['group'] == 'treatment'].sample(n = 4720, random_state = 444)\n",
    "control_sample.head()\n"
   ]
  },
  {
   "cell_type": "code",
   "execution_count": 75,
   "id": "54f5755d",
   "metadata": {},
   "outputs": [
    {
     "data": {
      "text/html": [
       "<div>\n",
       "<style scoped>\n",
       "    .dataframe tbody tr th:only-of-type {\n",
       "        vertical-align: middle;\n",
       "    }\n",
       "\n",
       "    .dataframe tbody tr th {\n",
       "        vertical-align: top;\n",
       "    }\n",
       "\n",
       "    .dataframe thead th {\n",
       "        text-align: right;\n",
       "    }\n",
       "</style>\n",
       "<table border=\"1\" class=\"dataframe\">\n",
       "  <thead>\n",
       "    <tr style=\"text-align: right;\">\n",
       "      <th></th>\n",
       "      <th>user_id</th>\n",
       "      <th>timestamp</th>\n",
       "      <th>group</th>\n",
       "      <th>button</th>\n",
       "      <th>liked</th>\n",
       "    </tr>\n",
       "  </thead>\n",
       "  <tbody>\n",
       "    <tr>\n",
       "      <th>151487</th>\n",
       "      <td>668931</td>\n",
       "      <td>2017-01-08 14:38:29</td>\n",
       "      <td>treatment</td>\n",
       "      <td>star</td>\n",
       "      <td>1</td>\n",
       "    </tr>\n",
       "    <tr>\n",
       "      <th>158612</th>\n",
       "      <td>940674</td>\n",
       "      <td>2017-01-04 19:09:07</td>\n",
       "      <td>treatment</td>\n",
       "      <td>star</td>\n",
       "      <td>0</td>\n",
       "    </tr>\n",
       "    <tr>\n",
       "      <th>178344</th>\n",
       "      <td>688387</td>\n",
       "      <td>2017-01-14 22:06:15</td>\n",
       "      <td>treatment</td>\n",
       "      <td>star</td>\n",
       "      <td>0</td>\n",
       "    </tr>\n",
       "    <tr>\n",
       "      <th>141883</th>\n",
       "      <td>842372</td>\n",
       "      <td>2017-01-18 11:50:59</td>\n",
       "      <td>treatment</td>\n",
       "      <td>star</td>\n",
       "      <td>0</td>\n",
       "    </tr>\n",
       "    <tr>\n",
       "      <th>220241</th>\n",
       "      <td>934270</td>\n",
       "      <td>2017-01-10 23:31:42</td>\n",
       "      <td>treatment</td>\n",
       "      <td>star</td>\n",
       "      <td>0</td>\n",
       "    </tr>\n",
       "  </tbody>\n",
       "</table>\n",
       "</div>"
      ],
      "text/plain": [
       "        user_id            timestamp      group button  liked\n",
       "151487   668931  2017-01-08 14:38:29  treatment   star      1\n",
       "158612   940674  2017-01-04 19:09:07  treatment   star      0\n",
       "178344   688387  2017-01-14 22:06:15  treatment   star      0\n",
       "141883   842372  2017-01-18 11:50:59  treatment   star      0\n",
       "220241   934270  2017-01-10 23:31:42  treatment   star      0"
      ]
     },
     "execution_count": 75,
     "metadata": {},
     "output_type": "execute_result"
    }
   ],
   "source": [
    "treatment_sample.head()"
   ]
  },
  {
   "cell_type": "code",
   "execution_count": 76,
   "id": "durable-belfast",
   "metadata": {},
   "outputs": [
    {
     "data": {
      "text/html": [
       "<div>\n",
       "<style scoped>\n",
       "    .dataframe tbody tr th:only-of-type {\n",
       "        vertical-align: middle;\n",
       "    }\n",
       "\n",
       "    .dataframe tbody tr th {\n",
       "        vertical-align: top;\n",
       "    }\n",
       "\n",
       "    .dataframe thead th {\n",
       "        text-align: right;\n",
       "    }\n",
       "</style>\n",
       "<table border=\"1\" class=\"dataframe\">\n",
       "  <thead>\n",
       "    <tr style=\"text-align: right;\">\n",
       "      <th></th>\n",
       "      <th>user_id</th>\n",
       "      <th>timestamp</th>\n",
       "      <th>group</th>\n",
       "      <th>button</th>\n",
       "      <th>liked</th>\n",
       "    </tr>\n",
       "  </thead>\n",
       "  <tbody>\n",
       "    <tr>\n",
       "      <th>0</th>\n",
       "      <td>923141</td>\n",
       "      <td>2017-01-22 5:57:47</td>\n",
       "      <td>control</td>\n",
       "      <td>heart</td>\n",
       "      <td>0</td>\n",
       "    </tr>\n",
       "    <tr>\n",
       "      <th>1</th>\n",
       "      <td>672677</td>\n",
       "      <td>2017-01-06 23:30:47</td>\n",
       "      <td>control</td>\n",
       "      <td>heart</td>\n",
       "      <td>0</td>\n",
       "    </tr>\n",
       "    <tr>\n",
       "      <th>2</th>\n",
       "      <td>830874</td>\n",
       "      <td>2017-01-18 23:10:33</td>\n",
       "      <td>control</td>\n",
       "      <td>heart</td>\n",
       "      <td>0</td>\n",
       "    </tr>\n",
       "    <tr>\n",
       "      <th>3</th>\n",
       "      <td>824896</td>\n",
       "      <td>2017-01-19 17:45:24</td>\n",
       "      <td>control</td>\n",
       "      <td>heart</td>\n",
       "      <td>0</td>\n",
       "    </tr>\n",
       "    <tr>\n",
       "      <th>4</th>\n",
       "      <td>689786</td>\n",
       "      <td>2017-01-15 12:54:08</td>\n",
       "      <td>control</td>\n",
       "      <td>heart</td>\n",
       "      <td>0</td>\n",
       "    </tr>\n",
       "    <tr>\n",
       "      <th>...</th>\n",
       "      <td>...</td>\n",
       "      <td>...</td>\n",
       "      <td>...</td>\n",
       "      <td>...</td>\n",
       "      <td>...</td>\n",
       "    </tr>\n",
       "    <tr>\n",
       "      <th>9435</th>\n",
       "      <td>906522</td>\n",
       "      <td>2017-01-17 17:52:05</td>\n",
       "      <td>treatment</td>\n",
       "      <td>star</td>\n",
       "      <td>1</td>\n",
       "    </tr>\n",
       "    <tr>\n",
       "      <th>9436</th>\n",
       "      <td>915194</td>\n",
       "      <td>2017-01-23 9:06:12</td>\n",
       "      <td>treatment</td>\n",
       "      <td>star</td>\n",
       "      <td>0</td>\n",
       "    </tr>\n",
       "    <tr>\n",
       "      <th>9437</th>\n",
       "      <td>839155</td>\n",
       "      <td>2017-01-09 19:13:09</td>\n",
       "      <td>treatment</td>\n",
       "      <td>star</td>\n",
       "      <td>0</td>\n",
       "    </tr>\n",
       "    <tr>\n",
       "      <th>9438</th>\n",
       "      <td>763360</td>\n",
       "      <td>2017-01-10 17:23:58</td>\n",
       "      <td>treatment</td>\n",
       "      <td>star</td>\n",
       "      <td>0</td>\n",
       "    </tr>\n",
       "    <tr>\n",
       "      <th>9439</th>\n",
       "      <td>887727</td>\n",
       "      <td>2017-01-04 12:31:57</td>\n",
       "      <td>treatment</td>\n",
       "      <td>star</td>\n",
       "      <td>0</td>\n",
       "    </tr>\n",
       "  </tbody>\n",
       "</table>\n",
       "<p>9440 rows × 5 columns</p>\n",
       "</div>"
      ],
      "text/plain": [
       "      user_id            timestamp      group button  liked\n",
       "0      923141   2017-01-22 5:57:47    control  heart      0\n",
       "1      672677  2017-01-06 23:30:47    control  heart      0\n",
       "2      830874  2017-01-18 23:10:33    control  heart      0\n",
       "3      824896  2017-01-19 17:45:24    control  heart      0\n",
       "4      689786  2017-01-15 12:54:08    control  heart      0\n",
       "...       ...                  ...        ...    ...    ...\n",
       "9435   906522  2017-01-17 17:52:05  treatment   star      1\n",
       "9436   915194   2017-01-23 9:06:12  treatment   star      0\n",
       "9437   839155  2017-01-09 19:13:09  treatment   star      0\n",
       "9438   763360  2017-01-10 17:23:58  treatment   star      0\n",
       "9439   887727  2017-01-04 12:31:57  treatment   star      0\n",
       "\n",
       "[9440 rows x 5 columns]"
      ]
     },
     "execution_count": 76,
     "metadata": {},
     "output_type": "execute_result"
    }
   ],
   "source": [
    "# Create one table called ab_test that has both the cleaned control and treatment data\n",
    "\n",
    "ab_test = pd.concat([control_sample, treatment_sample], axis = 0)\n",
    "ab_test.reset_index(drop = True, inplace = True)\n",
    "ab_test\n"
   ]
  },
  {
   "cell_type": "code",
   "execution_count": 77,
   "id": "conservative-occasions",
   "metadata": {},
   "outputs": [
    {
     "data": {
      "text/plain": [
       "control      4720\n",
       "treatment    4720\n",
       "Name: group, dtype: int64"
      ]
     },
     "execution_count": 77,
     "metadata": {},
     "output_type": "execute_result"
    }
   ],
   "source": [
    "# Count the test groups to make sure that they're balanced \n",
    "ab_test['group'].value_counts()\n"
   ]
  },
  {
   "cell_type": "markdown",
   "id": "metric-skill",
   "metadata": {},
   "source": [
    "### Analysis Visualization"
   ]
  },
  {
   "cell_type": "code",
   "execution_count": 91,
   "id": "satisfied-victoria",
   "metadata": {},
   "outputs": [
    {
     "data": {
      "text/html": [
       "<div>\n",
       "<style scoped>\n",
       "    .dataframe tbody tr th:only-of-type {\n",
       "        vertical-align: middle;\n",
       "    }\n",
       "\n",
       "    .dataframe tbody tr th {\n",
       "        vertical-align: top;\n",
       "    }\n",
       "\n",
       "    .dataframe thead th {\n",
       "        text-align: right;\n",
       "    }\n",
       "</style>\n",
       "<table border=\"1\" class=\"dataframe\">\n",
       "  <thead>\n",
       "    <tr style=\"text-align: right;\">\n",
       "      <th></th>\n",
       "      <th>group</th>\n",
       "      <th>std</th>\n",
       "      <th>mean</th>\n",
       "      <th>sem</th>\n",
       "      <th>sum</th>\n",
       "      <th>count</th>\n",
       "    </tr>\n",
       "  </thead>\n",
       "  <tbody>\n",
       "    <tr>\n",
       "      <th>0</th>\n",
       "      <td>control</td>\n",
       "      <td>0.320381</td>\n",
       "      <td>0.116102</td>\n",
       "      <td>0.004663</td>\n",
       "      <td>548</td>\n",
       "      <td>4720</td>\n",
       "    </tr>\n",
       "    <tr>\n",
       "      <th>1</th>\n",
       "      <td>treatment</td>\n",
       "      <td>0.330754</td>\n",
       "      <td>0.125000</td>\n",
       "      <td>0.004814</td>\n",
       "      <td>590</td>\n",
       "      <td>4720</td>\n",
       "    </tr>\n",
       "  </tbody>\n",
       "</table>\n",
       "</div>"
      ],
      "text/plain": [
       "       group       std      mean       sem  sum  count\n",
       "0    control  0.320381  0.116102  0.004663  548   4720\n",
       "1  treatment  0.330754  0.125000  0.004814  590   4720"
      ]
     },
     "execution_count": 91,
     "metadata": {},
     "output_type": "execute_result"
    }
   ],
   "source": [
    "# Find the like rate by group\n",
    "summary_stats = ab_test.groupby('group')['liked'].agg(['std','mean','sem','sum','count'])\n",
    "summary_stats = summary_stats.reset_index()\n",
    "summary_stats\n",
    "# Find the Std. deviation of the proportion\n",
    "#summary_stats['std']\n",
    "\n",
    "# Find the Std. error of the proportion (std / sqrt(n))\n",
    "#summary_stats['sem']\n",
    "\n",
    "# Calculate the final like rate\n"
   ]
  },
  {
   "cell_type": "code",
   "execution_count": 92,
   "id": "31fe6bf2",
   "metadata": {},
   "outputs": [
    {
     "data": {
      "text/plain": [
       "0    0.116102\n",
       "1    0.125000\n",
       "dtype: float64"
      ]
     },
     "execution_count": 92,
     "metadata": {},
     "output_type": "execute_result"
    }
   ],
   "source": [
    "like_rates = summary_stats['sum'] / summary_stats['count']\n",
    "like_rates\n",
    "# 0 == control\n",
    "# 1 == treatment"
   ]
  },
  {
   "cell_type": "code",
   "execution_count": 96,
   "id": "reflected-ecology",
   "metadata": {},
   "outputs": [
    {
     "data": {
      "text/plain": [
       "<matplotlib.legend.Legend at 0x1f8811980a0>"
      ]
     },
     "execution_count": 96,
     "metadata": {},
     "output_type": "execute_result"
    },
    {
     "data": {
      "image/png": "[encoded data removed]",
      "text/plain": [
       "<Figure size 864x432 with 1 Axes>"
      ]
     },
     "metadata": {},
     "output_type": "display_data"
    }
   ],
   "source": [
    "# Plot the like rate by group on a bar plot\n",
    "import scipy.stats as scs\n",
    "# seperate control and treatment rows\n",
    "control_selector = summary_stats['group'] == 'control'\n",
    "treatment_selector = summary_stats['group'] == 'treatment'\n",
    "\n",
    "# number of observations\n",
    "control_total = summary_stats[control_selector]['count'].values\n",
    "treatment_total = summary_stats[treatment_selector]['count'].values\n",
    "\n",
    "# conversion rate\n",
    "control_cr = summary_stats[ control_selector]['mean'].values\n",
    "treatment_cr = summary_stats[ treatment_selector]['mean'].values\n",
    "\n",
    "# total conversions\n",
    "control_converted = summary_stats[control_selector]['sum'].values\n",
    "treatment_converted = summary_stats[treatment_selector]['sum'].values\n",
    "\n",
    "#graph things\n",
    "xA = np.linspace(control_converted-100, control_converted+100, 500).flatten()\n",
    "yA = scs.binom(control_total, control_cr).pmf(xA).flatten()\n",
    "\n",
    "xB = np.linspace(treatment_converted-100, treatment_converted+100, 500).flatten()\n",
    "yB = scs.binom(treatment_total, treatment_cr).pmf(xB).flatten()\n",
    "\n",
    "fig, ax = plt.subplots(figsize=(12,6))\n",
    "ax.bar(xA, yA, alpha=0.5)\n",
    "ax.bar(xB, yB, alpha=0.5)\n",
    "\n",
    "\n",
    "# ax.axvline(x=z.values[0], c='blue', alpha=0.75, linestyle='--')\n",
    "plt.xlabel('converted')\n",
    "plt.ylabel('probability')\n",
    "\n",
    "ax.legend(['control', 'treatment'])\n",
    "#yeah I don't know what happened"
   ]
  },
  {
   "cell_type": "code",
   "execution_count": 97,
   "id": "1318d833",
   "metadata": {},
   "outputs": [
    {
     "data": {
      "text/plain": [
       "<matplotlib.legend.Legend at 0x1f88116a3d0>"
      ]
     },
     "execution_count": 97,
     "metadata": {},
     "output_type": "execute_result"
    },
    {
     "data": {
      "image/png": "[encoded data removed]",
      "text/plain": [
       "<Figure size 864x432 with 1 Axes>"
      ]
     },
     "metadata": {},
     "output_type": "display_data"
    }
   ],
   "source": [
    "# standard error of the mean for both groups\n",
    "SE_A = summary_stats[control_selector]['sem']\n",
    "SE_B = summary_stats[treatment_selector]['sem']\n",
    "\n",
    "\n",
    "# plot the null and alternative hypothesis\n",
    "fig, ax = plt.subplots(figsize=(12,6))\n",
    "xA = np.linspace(.1, .16, 500)\n",
    "yA = scs.norm(control_cr, SE_A).pdf(xA)\n",
    "\n",
    "\n",
    "ax.plot(xA, yA, c='red')\n",
    "#ax.axvline(x=control_cr, c='red', alpha=0.5, linestyle='--')\n",
    "\n",
    "xB = np.linspace(0.1, .16, 500)\n",
    "yB = scs.norm(treatment_cr, SE_B).pdf(xB)\n",
    "\n",
    "ax.plot(xB, yB, c='blue')\n",
    "#ax.axvline(x=B_cr, c='blue', alpha=0.5, linestyle='--')\n",
    "plt.xlabel('Converted Rate')\n",
    "plt.ylabel('PDF')\n",
    "\n",
    "ax.legend(['control', 'treatment'])\n",
    "#much better"
   ]
  },
  {
   "cell_type": "code",
   "execution_count": 100,
   "id": "b9567093",
   "metadata": {},
   "outputs": [
    {
     "data": {
      "image/png": "[encoded data removed]",
      "text/plain": [
       "<Figure size 576x432 with 1 Axes>"
      ]
     },
     "metadata": {},
     "output_type": "display_data"
    }
   ],
   "source": [
    "plt.figure(figsize=(8,6))\n",
    "\n",
    "sns.barplot(x=ab_test['group'], y=ab_test['liked'])\n",
    "\n",
    "plt.ylim(0, 0.17)\n",
    "\n",
    "plt.title('Conversion rate by group', pad=20)\n",
    "plt.xlabel('Group', labelpad=15)\n",
    "plt.ylabel('Converted (proportion)', labelpad=15);"
   ]
  },
  {
   "cell_type": "code",
   "execution_count": null,
   "id": "0f7bc8ae",
   "metadata": {},
   "outputs": [],
   "source": []
  },
  {
   "cell_type": "markdown",
   "id": "adolescent-footage",
   "metadata": {},
   "source": [
    "### Testing for Stat Sig"
   ]
  },
  {
   "cell_type": "code",
   "execution_count": 107,
   "id": "precious-chicken",
   "metadata": {},
   "outputs": [
    {
     "name": "stdout",
     "output_type": "stream",
     "text": [
      "observation in control 4720\n",
      "observation in treatment 4720\n",
      "successes in control 548, and successes in treatment 590.\n"
     ]
    }
   ],
   "source": [
    "from statsmodels.stats.proportion import proportions_ztest, proportion_confint\n",
    "\n",
    "# Get the like count for both control and treatment groups\n",
    "control_results = ab_test[ab_test['group'] == 'control']['liked']\n",
    "treatment_results = ab_test[ab_test['group'] == 'treatment']['liked']\n",
    "\n",
    "\n",
    "# Get the number of samples in both groups\n",
    "\n",
    "n_con = control_results.count()\n",
    "n_treat = treatment_results.count()\n",
    "\n",
    "\n",
    "# Sum up the number of successes (likes) in both groups\n",
    "\n",
    "successes = [control_results.sum(), treatment_results.sum()]\n",
    "nobs = [n_con, n_treat]\n",
    "\n",
    "print('observation in control', control_likes)\n",
    "print('observation in treatment', treatment_likes)\n",
    "print('successes in control %d, and successes in treatment %d.' % (successes[0], successes[1]))"
   ]
  },
  {
   "cell_type": "code",
   "execution_count": 108,
   "id": "lesbian-emperor",
   "metadata": {},
   "outputs": [],
   "source": [
    "# Find the z statistic and p value for proportions based on normal ztest\n",
    "z_stat, pval = proportions_ztest(\n",
    "    successes, \n",
    "    nobs=nobs) #Test for proportions based on normal ztest\n",
    "\n",
    "# Find the confidence intervals for each test group\n",
    "\n",
    "(lower_con, lower_treat), (upper_con, upper_treat) = proportion_confint(successes, nobs=nobs, alpha=0.05) #confidence interval for a binomial proportion\n"
   ]
  },
  {
   "cell_type": "code",
   "execution_count": 109,
   "id": "filled-quality",
   "metadata": {},
   "outputs": [
    {
     "name": "stdout",
     "output_type": "stream",
     "text": [
      "z statistic: -1.33\n",
      "p-value: 0.184305\n",
      "ci 95% for control group: [0.107, 0.125]\n",
      "ci 95% for treatment group: [0.116, 0.134]\n"
     ]
    }
   ],
   "source": [
    "# print z statistic\n",
    "print(f'z statistic: {z_stat:.2f}')\n",
    "# print p-value\n",
    "print(f'p-value: {pval:.6f}')\n",
    "# print ci 95% for control group\n",
    "print(f'ci 95% for control group: [{lower_con:.3f}, {upper_con:.3f}]')\n",
    "# print ci 95% for treatment group\n",
    "print(f'ci 95% for treatment group: [{lower_treat:.3f}, {upper_treat:.3f}]')"
   ]
  },
  {
   "cell_type": "markdown",
   "id": "closing-technique",
   "metadata": {},
   "source": [
    "### Were the results signficant? "
   ]
  },
  {
   "cell_type": "code",
   "execution_count": 110,
   "id": "respected-uganda",
   "metadata": {},
   "outputs": [
    {
     "name": "stdout",
     "output_type": "stream",
     "text": [
      "the p-value is not below 0.05 so the null hypothesis H0 will be rejected\n"
     ]
    }
   ],
   "source": [
    "print(\"the p-value is not below 0.05 so the null hypothesis H0 will be rejected\")"
   ]
  },
  {
   "cell_type": "markdown",
   "id": "connected-tiffany",
   "metadata": {},
   "source": [
    "### What would you advise the engineering team to do moving forward?"
   ]
  },
  {
   "cell_type": "code",
   "execution_count": 111,
   "id": "polar-power",
   "metadata": {},
   "outputs": [
    {
     "name": "stdout",
     "output_type": "stream",
     "text": [
      "I would advise the engineering team that the like button is not something that should be changed.\n"
     ]
    }
   ],
   "source": [
    "print(\"I would advise the engineering team that the like button is not something that should be changed.\")"
   ]
  },
  {
   "cell_type": "code",
   "execution_count": 112,
   "id": "c9aadc2d",
   "metadata": {},
   "outputs": [
    {
     "data": {
      "text/plain": [
       "<matplotlib.lines.Line2D at 0x1f8873681c0>"
      ]
     },
     "execution_count": 112,
     "metadata": {},
     "output_type": "execute_result"
    },
    {
     "data": {
      "image/png": "[encoded data removed]",
      "text/plain": [
       "<Figure size 864x432 with 1 Axes>"
      ]
     },
     "metadata": {},
     "output_type": "display_data"
    }
   ],
   "source": [
    "sns.set()\n",
    "# standard error of the mean for both groups\n",
    "SE_A = summary_stats[control_selector]['sem']\n",
    "SE_B = summary_stats[treatment_selector]['sem']\n",
    "\n",
    "\n",
    "# plot the null and alternative hypothesis\n",
    "fig, ax = plt.subplots(figsize=(12,6))\n",
    "xA = np.linspace(.1, .16, 500)\n",
    "yA = scs.norm(control_cr, SE_A).pdf(xA)\n",
    "\n",
    "\n",
    "ax.plot(xA, yA, c='red')\n",
    "\n",
    "# lower bound\n",
    "ax.axvline(x=lower_con, c='red', alpha=0.5, linestyle='--')\n",
    "ax.axvline(x=upper_con, c='red', alpha=0.5, linestyle='--')\n",
    "\n",
    "\n",
    "xB = np.linspace(0.1, .16, 500)\n",
    "yB = scs.norm(treatment_cr, SE_B).pdf(xB)\n",
    "ax.plot(xB, yB, c='blue')\n",
    "\n",
    "ax.axvline(x=lower_treat, c='blue', alpha=0.5, linestyle='--')\n",
    "ax.axvline(x=upper_treat, c='blue', alpha=0.5, linestyle='--')\n",
    "\n",
    "\n",
    "plt.xlabel('Converted Rate')\n",
    "plt.ylabel('PDF')\n",
    "\n",
    "ax.axvline(x=0.15, c='black')"
   ]
  },
  {
   "cell_type": "code",
   "execution_count": null,
   "id": "48e86f0f",
   "metadata": {},
   "outputs": [],
   "source": []
  }
 ],
 "metadata": {
  "kernelspec": {
   "display_name": "Python 3 (ipykernel)",
   "language": "python",
   "name": "python3"
  },
  "language_info": {
   "codemirror_mode": {
    "name": "ipython",
    "version": 3
   },
   "file_extension": ".py",
   "mimetype": "text/x-python",
   "name": "python",
   "nbconvert_exporter": "python",
   "pygments_lexer": "ipython3",
   "version": "3.9.12"
  }
 },
 "nbformat": 4,
 "nbformat_minor": 5
}
